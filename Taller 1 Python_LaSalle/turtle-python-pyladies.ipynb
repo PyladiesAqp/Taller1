{
 "cells": [
  {
   "cell_type": "markdown",
   "metadata": {},
   "source": [
    "## Aprendiendo a graficar con python "
   ]
  },
  {
   "cell_type": "markdown",
   "metadata": {},
   "source": [
    "Hay muchos módulos de Python que proporcionan características muy poderosas que podemos usar en nuestros propios programas. Algunos de estos pueden enviar correo electrónico o buscar páginas web.\n",
    "\n",
    "Lo siguiente que vamos a hacer es divertirnos un poco con las tortugas. Una tortuga es un robot muy chiquitito que dibuja en tu pantalla. Podemos hacer que se mueva usando comandos de Python."
   ]
  },
  {
   "cell_type": "markdown",
   "metadata": {},
   "source": [
    "Python Turtle Graphics es un módulo de programación gráfica para Python utilizado como método para enseñar programación a través de coordenadas relativas.\n",
    "\n",
    "“Turtle” es una característica de Python como un tablero de dibujo, que nos permite ordenar a una tortuga que dibuje todo sobre ella. Podemos usar funciones como turtle.forward (...) y turtle.right (...) que pueden mover a la tortuga. Los métodos de turtle comúnmente usados son:\n"
   ]
  },
  {
   "cell_type": "markdown",
   "metadata": {},
   "source": [
    "\n",
    "|   MÉTODO  |      PARÁMETRO    |  DESCRIPCIÓN|\n",
    "| --- | --- | --- |\n",
    "|  Turtle()    |   Ninguna     |  Crea y devuelve un nuevo objeto turtle.|\n",
    "|  forward()\t|   cantidad\t|  Mueve la tortuga hacia adelante en la cantidad especificada.|\n",
    "|  backward()\t |   cantidad   |   Mueve la tortuga hacia atrás en la cantidad especificada.|\n",
    "|  right()\t|        ángulo\t |     Gira la tortuga a la derecha|\n",
    "|  left()\t    |    ángulo\t    |  Gira la tortuga a la izquierda|\n",
    "|  penup ()\t |   Ninguna\t |     Recoge la pluma de la tortuga|\n",
    "|  pendown()\t|    Ninguna\t |     Pone la pluma de la tortuga|\n",
    "|  up()\t    |    Ninguna\t |     Recoge la pluma de la tortuga|\n",
    "  |  down()\t   |     Ninguna\t |     Pone la pluma de la tortuga|\n",
    "  |  color()\t    |    Nombre del color|\tCambia el color de la pluma de la tortuga|\n",
    "  |  fillcolor()|\t    Nombre del color|\tCambia el color de la tortuga que usará para rellenar un polígono.|\n",
    "  |  heading()\t |   Ninguna\t|Devuelve el encabezado actual.|\n",
    "  |  position()\t  |  Ninguna\t|Devuelve la posición actual|\n",
    "  |  goto()\t     |   x, y\t|Mueve la tortuga a la posición x, y|\n",
    "  |  begin_fill()|\tNinguna|\tRecuerda el punto de partida para un polígono relleno.|\n",
    "  |  end_fill ()|\t    Ninguna|\tCerrar el polígono y rellenar con el color de relleno actual|\n",
    "  |  dot()\t      |  Ninguna|\tDeja el punto en la posición actual|\n",
    "  |  stamp()\t |       Ninguna|\tDeja una impresión de la forma de una tortuga en la ubicación actual|\n",
    "  |  shape()\t  |      nombre de forma|\tDebe ser 'flecha', 'clásico', 'tortuga' o 'círculo'|"
   ]
  },
  {
   "cell_type": "markdown",
   "metadata": {},
   "source": [
    "Para utilizar el módulo turtle sólo hace falta importarlo:\n",
    "\n",
    "    Si se va a escribir código no orientado a objetos:"
   ]
  },
  {
   "cell_type": "code",
   "execution_count": 12,
   "metadata": {},
   "outputs": [],
   "source": [
    "from turtle import *"
   ]
  },
  {
   "cell_type": "markdown",
   "metadata": {},
   "source": [
    "### La ventana de dibujo: setup() y title()\n",
    "    \n",
    "El módulo turtle dibuja en una ventana distinta a la ventana de IDLE. Esta ventana de dibujo se crea al ejecutar un programa y se mantiene al acabar la ejecución del programa, pero se destruye al volver a ejecutar el programa.\n",
    "\n",
    "La función setup(ancho, alto, posicionX, posicionY) permite definir el tamaño y la posición inicial de la ventana. Los cuatro argumentos de la función son (en píxeles):\n",
    "\n",
    "ancho: ancho de la ventana.\n",
    "alto: alto de la ventana.\n",
    "posicionX: posición horizontal de la ventana. Los valores positivos se miden desde el borde izquierdo de la pantalla, los negativos desde el borde derecho de la pantalla.\n",
    "posicionY: posición vertical de la ventana. Los valores positivos se miden desde el borde superior de la pantalla, los negativos desde el borde inferior de la pantalla."
   ]
  },
  {
   "cell_type": "code",
   "execution_count": 42,
   "metadata": {},
   "outputs": [],
   "source": [
    "from turtle import *\n",
    "\n",
    "setup(640, 480, 0, 0)\n",
    "\n",
    "exitonclick()"
   ]
  },
  {
   "cell_type": "markdown",
   "metadata": {},
   "source": [
    "Si no se usa la función setup(), la ventana se crea en el centro de la pantalla (para que se cree la ventana tiene que aparecer alguna función del módulo turtle)"
   ]
  },
  {
   "cell_type": "markdown",
   "metadata": {},
   "source": [
    "La función title() permite definir el título de la ventana, que se muestra en el borde superior de la ventana."
   ]
  },
  {
   "cell_type": "code",
   "execution_count": 44,
   "metadata": {},
   "outputs": [],
   "source": [
    "from turtle import *\n",
    "setup(640, 480, 0, 0)\n",
    "\n",
    "title(\"Mi Primera ventana\")\n",
    "\n",
    "exitonclick()\n"
   ]
  },
  {
   "cell_type": "markdown",
   "metadata": {},
   "source": [
    "### Dibujar en la ventana\n",
    "Dibujar gráficos de turtle es similar a dibujar con un lápiz sobre papel. Las instrucciones de gráficos de tortuga permiten dibujar líneas y puntos, mover el lápiz de un sitio a otro, cambiar el color y grosor del trazo, colorear el interior de las figuras, etc.\n",
    "\n",
    "Situar el cursor en un lugar del área de dibujo es equivalente a colocar la punta del lápiz en un punto de un papel y desplazar el cursor es equivalente a dibujar un segmento sobre el papel o desplazar el lápiz a otro punto del papel.\n",
    "\n",
    "Las posiciones en el área de dibujo se localizan mediante coordenadas XY en el que cada píxel es una unidad y con origen en el centro de la ventana. La imagen siguiente muestra cuál sería la posición de los ejes de coordenadas y cuáles serían las coordenadas de un punto cualquiera.\n",
    "\n"
   ]
  },
  {
   "cell_type": "markdown",
   "metadata": {},
   "source": []
  },
  {
   "cell_type": "markdown",
   "metadata": {},
   "source": [
    "![ima](https://lh3.googleusercontent.com/YYqVLnZtf0NM9arhaNkD2W8a8fNrmput6M-sqRv1iG30RAa93ZuHwbiUawfnhew_TKkr=s117)"
   ]
  },
  {
   "cell_type": "markdown",
   "metadata": {},
   "source": [
    "### La tortuga: showturtle(), hideturtle()\n",
    "La función showturtle() muestra el cursor (la tortuga).\n",
    "La función hideturtle() oculta el cursor (la tortuga)."
   ]
  },
  {
   "cell_type": "code",
   "execution_count": 110,
   "metadata": {},
   "outputs": [],
   "source": [
    "#muestro a la tortuga\n",
    "from turtle import *\n",
    "setup(640, 480, 0, 0)\n",
    "title(\"Mi Primera ventana dani\")\n",
    "showturtle()\n",
    "\n",
    "exitonclick()"
   ]
  },
  {
   "cell_type": "markdown",
   "metadata": {},
   "source": [
    "### Mover el lápiz: goto(), setx() y sety()\n"
   ]
  },
  {
   "cell_type": "code",
   "execution_count": 69,
   "metadata": {},
   "outputs": [],
   "source": [
    "#hacemos una L hacia arriba\n",
    "from turtle import *\n",
    "setup(400,300,0,0)\n",
    "title(\"Ejemplo2 de ventana\")\n",
    "goto(100,0)\n",
    "goto(100,100)\n",
    "dot()\n",
    "\n",
    "exitonclick()\n"
   ]
  },
  {
   "cell_type": "markdown",
   "metadata": {},
   "source": [
    "Las funciones setx() y sety() permiten desplazar el cursor a una posición determinada del área de dibujo. La función setx() modifica la abcisa X manteniendo la ordenada Y, mientras que la función sety() modifica la ordenada Y manteniendo la abcisa X."
   ]
  },
  {
   "cell_type": "code",
   "execution_count": 73,
   "metadata": {},
   "outputs": [],
   "source": [
    "from turtle import *\n",
    "\n",
    "setup(450, 400, 0, 0)\n",
    "goto(100, 50)\n",
    "sety(-50)\n",
    "setx(50)\n",
    "\n",
    "exitonclick()\n"
   ]
  },
  {
   "cell_type": "markdown",
   "metadata": {},
   "source": [
    "### Mover el lapiz: forward() , left(90) , right(90)"
   ]
  },
  {
   "cell_type": "code",
   "execution_count": 71,
   "metadata": {},
   "outputs": [],
   "source": [
    "\n",
    "from turtle import *\n",
    "setup(600, 600, 0, 0)\n",
    "title(\"Ejemplo de ventana\")\n",
    "hideturtle()\n",
    "forward(100)\n",
    "left(90)\n",
    "forward(100)\n",
    "dot()\n",
    "\n",
    "exitonclick()\n"
   ]
  },
  {
   "cell_type": "markdown",
   "metadata": {},
   "source": [
    "PRACTICANDO: Dibujen un cuadrado!!"
   ]
  },
  {
   "cell_type": "code",
   "execution_count": null,
   "metadata": {},
   "outputs": [],
   "source": []
  },
  {
   "cell_type": "code",
   "execution_count": 2,
   "metadata": {},
   "outputs": [],
   "source": [
    "from turtle import *\n",
    "setup(400, 400, 0, 0)\n",
    "#color(\"red\")\n",
    "shape(\"turtle\")\n",
    "#dibujar cuadrado\n",
    "def cuadrado():\n",
    "    forward(100)\n",
    "    left(90)\n",
    "    forward(100)\n",
    "    left(90)\n",
    "    forward(100)\n",
    "    left(90)\n",
    "    forward(100)\n",
    "    left(90)\n",
    "cuadrado()\n",
    "\n"
   ]
  },
  {
   "cell_type": "code",
   "execution_count": 80,
   "metadata": {},
   "outputs": [],
   "source": [
    "#hacer cuadrado usando un bucle\n",
    "def cuadrado2():\n",
    "    for i in range(4):\n",
    "        forward(100)\n",
    "        right(90)\n",
    "cuadrado2()"
   ]
  },
  {
   "cell_type": "code",
   "execution_count": 4,
   "metadata": {},
   "outputs": [],
   "source": [
    "\n",
    "#Ejercicio 2: dibujar 5 cuadrados\n",
    "def cincoCuadrados():\n",
    "    cuadrado()\n",
    "    left(72)\n",
    "    cuadrado()\n",
    "    left(72)\n",
    "    cuadrado()\n",
    "    left(72)\n",
    "    cuadrado()\n",
    "    left(72)\n",
    "    cuadrado()\n",
    "cincoCuadrados()\n"
   ]
  },
  {
   "cell_type": "markdown",
   "metadata": {},
   "source": [
    "PRACTICANDO: dibujar 5 cuadrados usando bucles  "
   ]
  },
  {
   "cell_type": "code",
   "execution_count": null,
   "metadata": {},
   "outputs": [],
   "source": []
  },
  {
   "cell_type": "markdown",
   "metadata": {},
   "source": [
    "### Levantar y bajar el lápiz: penup() y pendown()\n"
   ]
  },
  {
   "cell_type": "code",
   "execution_count": 85,
   "metadata": {},
   "outputs": [],
   "source": [
    "# dibujar un cuadrado en el cuadrante IV y dentro un circulo\n",
    "def cuadradoConCirculo():\n",
    "    penup()\n",
    "    left(180)\n",
    "    forward(150)\n",
    "    left(90)\n",
    "    forward(50)\n",
    "    pendown()\n",
    "    cuadrado()\n",
    "    penup()\n",
    "    forward(50)\n",
    "    pendown()\n",
    "    circle(50)\n",
    "cuadradoConCirculo()\n",
    "\n",
    "exitonclick()"
   ]
  },
  {
   "cell_type": "markdown",
   "metadata": {},
   "source": [
    "### Grosor del trazo: pensize()\n",
    "La función pensize(grosor) permite modificar el grosor del trazo"
   ]
  },
  {
   "cell_type": "code",
   "execution_count": 166,
   "metadata": {},
   "outputs": [],
   "source": [
    "#dibujando un cuadrado con diferente grosor de bordes\n",
    "from turtle import *\n",
    "setup(450, 400, 0, 0)\n",
    "\n",
    "forward(100)\n",
    "left(90)\n",
    "pensize(2)\n",
    "forward(100)\n",
    "left(90)\n",
    "pensize(4)\n",
    "forward(100)\n",
    "left(90)\n",
    "pensize(8)\n",
    "forward(100)\n",
    "left(90)\n",
    "\n",
    "exitonclick()"
   ]
  },
  {
   "cell_type": "markdown",
   "metadata": {},
   "source": [
    "### Color del trazo: pencolor() y colormode()\n",
    "La función pencolor(rojo, azul, verde) permite modificar el color del trazo. El color se da como combinación de rojo, azul y verde. Los valores de color se pueden dar como valores enteros entre 0 y 255 o como valores decimales entre 0 y 1. Para elegir entre un modo y otro de indicar los colores hay que utilizar la función colormode(1) o colormode(255)."
   ]
  },
  {
   "cell_type": "code",
   "execution_count": 75,
   "metadata": {},
   "outputs": [],
   "source": [
    "from turtle import *\n",
    "\n",
    "setup(450, 200, 0, 0)\n",
    "colormode(255)\n",
    "\n",
    "pencolor(255, 0, 0)\n",
    "goto(100, 50)\n",
    "pencolor(0, 255, 0)\n",
    "goto(100, -50)\n",
    "pencolor(0, 0, 255)\n",
    "goto(50, -50)\n",
    "\n",
    "exitonclick()\n"
   ]
  },
  {
   "cell_type": "code",
   "execution_count": null,
   "metadata": {},
   "outputs": [],
   "source": [
    "from turtle import *\n",
    "\n",
    "setup(450, 200, 0, 0)\n",
    "screensize(300, 150)\n",
    "colormode(1)\n",
    "\n",
    "pencolor(1, 0, 0)\n",
    "goto(100, 50)\n",
    "pencolor(0, 1, 0)\n",
    "goto(100, -50)\n",
    "pencolor(0, 0, 1)\n",
    "goto(50, -50)\n",
    "\n",
    "exitonclick()\n"
   ]
  },
  {
   "cell_type": "markdown",
   "metadata": {},
   "source": [
    "También se pueden utilizar los nombres de colores de Tk, que incluyen entre otros los nombres de colores SVG, en cuyo caso no hace falta utilizar la función colormode()."
   ]
  },
  {
   "cell_type": "code",
   "execution_count": null,
   "metadata": {},
   "outputs": [],
   "source": [
    "from turtle import *\n",
    "\n",
    "setup(450, 200, 0, 0)\n",
    "screensize(300, 150)\n",
    "\n",
    "pencolor(\"DarkGreen\")\n",
    "goto(100, 50)\n",
    "pencolor(\"#25EED9\")\n",
    "goto(100, -50)\n",
    "pencolor(\"blue\")\n",
    "goto(50, -50)\n",
    "\n",
    "exitonclick()\n"
   ]
  },
  {
   "cell_type": "markdown",
   "metadata": {},
   "source": [
    "### Dibujar puntos: dot() \n",
    "La función dot(grosor, color) permite dibujar un punto del grosor y color indicado en el punto en el que se encuentra el cursor. "
   ]
  },
  {
   "cell_type": "code",
   "execution_count": null,
   "metadata": {},
   "outputs": [],
   "source": [
    "from turtle import *\n",
    "\n",
    "setup(450, 200, 0, 0)\n",
    "colormode(255)\n",
    "\n",
    "goto(100, 50)\n",
    "dot(10, 255, 0, 0)\n",
    "goto(100, -50)\n",
    "dot(20, 0, 255, 0)\n",
    "goto(50, -50)\n",
    "dot(30, 0, 0, 255)\n",
    "goto(0,0)\n",
    "\n",
    "exitonclick()\n"
   ]
  },
  {
   "cell_type": "markdown",
   "metadata": {},
   "source": [
    "### Rellenar figuras"
   ]
  },
  {
   "cell_type": "markdown",
   "metadata": {},
   "source": [
    "La función begin_fill() indica a Python que las figuras que se dibujen a partir de ese momento se deben rellenar. La función end_fill() indica a Python que las figuras deben dejar de rellenarse.\n",
    "\n",
    "La función fillcollor(color) permite establecer el color de relleno, de la misma manera que la función pencolor(). El color se puede definir tanto como combinación de rojo, verde y azul, como con nombre de colores de Tk.\n",
    "\n",
    "Si no se establece un color de relleno distinto, el color de relleno predeterminado es el negro.\n",
    "\n",
    "    Para rellenar una figura, se debe llamar a la función begin_fill(), dibujar la figura y llamar a la función end_fill()."
   ]
  },
  {
   "cell_type": "code",
   "execution_count": 178,
   "metadata": {},
   "outputs": [],
   "source": [
    "from turtle import *\n",
    "\n",
    "setup(450, 200, 0, 0)\n",
    "screensize(300, 150)\n",
    "title(\"pintando\")\n",
    "hideturtle()\n",
    "\n",
    "pensize(5)\n",
    "fillcolor(\"red\")\n",
    "begin_fill()\n",
    "goto(100, 0)\n",
    "goto(100, 50)\n",
    "goto(0, 50)\n",
    "goto(0, 0) #si no lo pongo igual lo rellena\n",
    "end_fill()\n",
    "\n",
    "exitonclick()\n"
   ]
  },
  {
   "cell_type": "code",
   "execution_count": null,
   "metadata": {},
   "outputs": [],
   "source": [
    "PRACTICANDO: DIBUJEN SUS INICIALES DE NOMBRES CON COLORES"
   ]
  },
  {
   "cell_type": "code",
   "execution_count": null,
   "metadata": {},
   "outputs": [],
   "source": [
    "Referencias:\n",
    "https://www.geeksforgeeks.org/turtle-programming-python/\n",
    "\n",
    "http://www.mclibre.org/consultar/python/lecciones/python-turtle-1.html\n",
    "\n"
   ]
  }
 ],
 "metadata": {
  "kernelspec": {
   "display_name": "Python 3",
   "language": "python",
   "name": "python3"
  },
  "language_info": {
   "codemirror_mode": {
    "name": "ipython",
    "version": 3
   },
   "file_extension": ".py",
   "mimetype": "text/x-python",
   "name": "python",
   "nbconvert_exporter": "python",
   "pygments_lexer": "ipython3",
   "version": "3.7.1"
  }
 },
 "nbformat": 4,
 "nbformat_minor": 2
}
