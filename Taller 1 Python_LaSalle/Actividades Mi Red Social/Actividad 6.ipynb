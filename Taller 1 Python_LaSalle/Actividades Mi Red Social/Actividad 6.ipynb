{
 "cells": [
  {
   "cell_type": "markdown",
   "metadata": {},
   "source": [
    "# Mi Red Social - Actividad 6\n",
    "#Dividimos en dos archivos nuestro código fuente Python.\n",
    "#Un archivo para las funciones y el segundo archivo para el programa principal"
   ]
  },
  {
   "cell_type": "code",
   "execution_count": null,
   "metadata": {},
   "outputs": [],
   "source": [
    "#Finalmente, podemos ver que nuestro archivo es cada vez más grande.\n",
    "\n",
    "#Vamos a crear un nuevo archivo .py y copiaremos en él todas las funciones que hemos definido.\n",
    "#Llamaremos a este archivo S4Red.py. Luego, para poder utilizar estas funciones dentro de nuestro archivo\n",
    "#principal, utilizaremos la instrucción import.\n",
    "import Actividad6_Funciones as Red\n",
    "\n",
    "#Aquí empieza el programa principal.\n",
    "\n",
    "Red.mostrar_bienvenida()\n",
    "(nombre, edad, estatura_m, estatura_cm, num_amigos) = Red.obtener_datos()\n",
    "\n",
    "print(\"Muy bien,\", nombre, \". Entonces podemos crear un perfil con estos datos.\")\n",
    "Red.mostrar_perfil(nombre, edad, estatura_m, estatura_cm, num_amigos)\n",
    "print(\"Ya podemos preguntar, recordar y calcular datos. Esperamos que disfrutes con Mi Red\")\n",
    "print(\"--------------------------------------------------\")\n",
    "\n",
    "opcion = 1\n",
    "while opcion != 0:\n",
    "    opcion = Red.opcion_menu()\n",
    "    if opcion == 1:\n",
    "        mensaje = Red.obtener_mensaje()\n",
    "        Red.mostrar_mensaje(nombre, None, mensaje)\n",
    "    elif opcion == 2:\n",
    "        mensaje = Red.obtener_mensaje()\n",
    "        for i in range(num_amigos):\n",
    "            nombre_amigo = input(\"Ingresa el nombre de tu amigo o amiga: \")\n",
    "            Red.mostrar_mensaje(nombre, nombre_amigo, mensaje)\n",
    "    elif opcion == 3:\n",
    "        Red.mostrar_perfil(nombre, edad, estatura_m, estatura_cm, num_amigos)\n",
    "    elif opcion == 4:\n",
    "        nombre = Red.obtener_nombre()\n",
    "        edad = Red.obtener_edad()\n",
    "        (estatura_m, estatura_cm) = Red.obtener_estatura()\n",
    "        num_amigos = Red.obtener_num_amigos()\n",
    "        Red.mostrar_perfil(nombre, edad, estatura_m, estatura_cm, num_amigos)\n",
    "    elif opcion == 0:\n",
    "        print(\"Has decidido salir.\")\n",
    "\n",
    "print(\"Gracias por usar Mi Red. ¡Hasta pronto!\")\n",
    "\n",
    "#Como puedes ver, la parte principal de tu programa ahora es mucho más corto.\n",
    "#Gran parte de la funcionalidad está encapsulada en funciones, y estas funciones están definidas\n",
    "# en otro archivo que hemos importado.\n",
    "\n",
    "#Al usar funciones podemos concentrarnos en partes más específicas de nuestro código,\n",
    "# y nos ayuda a razonar a un nivel más alto."
   ]
  },
  {
   "cell_type": "code",
   "execution_count": null,
   "metadata": {},
   "outputs": [],
   "source": []
  }
 ],
 "metadata": {
  "kernelspec": {
   "display_name": "Python 3",
   "language": "python",
   "name": "python3"
  },
  "language_info": {
   "codemirror_mode": {
    "name": "ipython",
    "version": 3
   },
   "file_extension": ".py",
   "mimetype": "text/x-python",
   "name": "python",
   "nbconvert_exporter": "python",
   "pygments_lexer": "ipython3",
   "version": "3.7.2"
  }
 },
 "nbformat": 4,
 "nbformat_minor": 2
}
