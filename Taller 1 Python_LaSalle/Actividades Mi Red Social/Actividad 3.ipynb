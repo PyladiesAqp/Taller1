{
 "cells": [
  {
   "cell_type": "markdown",
   "metadata": {},
   "source": [
    "# Mi Red Social - Actividad 3\n",
    "Practicaremos While, IF ELSE"
   ]
  },
  {
   "cell_type": "code",
   "execution_count": 1,
   "metadata": {},
   "outputs": [],
   "source": [
    "#Hola, ahora que ya sabemos construir una interacción básica con nuestro programa\n",
    "#de red social, vamos a agregar nuevas funcionalidades.\n",
    "#\n",
    "#Vamos a partir con el mismo programa de la etapa anterior, que permite dos cosas:\n",
    "#1. Obtener datos del usuario\n",
    "#2. Consultar y mostrar UN mensaje de estado del usuario"
   ]
  },
  {
   "cell_type": "code",
   "execution_count": 2,
   "metadata": {},
   "outputs": [],
   "source": [
    "#Una característica de los programas con múltiples funcionalidades es que ofrecen un menú de acciones al usuario. \n",
    "\n",
    "#Los menú de opciones permiten que el usuario escoja que acción realizar y podemos\n",
    "#implementarlos usando un ciclo while que funcionen mientras el usuario no escoja una acción de salida.\n",
    "\n",
    "#Cada vez que el usuario escoja una acción podemos usar una serie de 'if/elif/else' para ejecutar\n",
    "#distintas secciones de código de acuerdo a lo que el usuario ha solicitado."
   ]
  },
  {
   "cell_type": "code",
   "execution_count": 3,
   "metadata": {},
   "outputs": [
    {
     "name": "stdout",
     "output_type": "stream",
     "text": [
      "Bienvenido a ... \n",
      "\n",
      "              _                  __\n",
      "   ____ ___  (_)  ________  ____/ /\n",
      "  / __ `__ \\/ /  / ___/ _ \\/ __  /\n",
      " / / / / / / /  / /  /  __/ /_/ /\n",
      "/_/ /_/ /_/_/  /_/   \\___/\\__,_/\n",
      "\n",
      "\n",
      "Para empezar, dime como te llamas. Elian\n",
      "\n",
      "Hola  Elian , bienvenido a Mi Red\n",
      "\n",
      "Para preparar tu perfil, dime en qué año naciste. 1988\n",
      "\n",
      "Cuéntame más de ti, para agregarlo a tu perfil. ¿Cuánto mides? Dímelo en metros. 1.63\n",
      "Muy bien. Finalmente, cuéntame cuantos amigos tienes. 1000\n",
      "\n",
      "Muy bien, Elian . Entonces podemos crear un perfil con estos datos.\n",
      "--------------------------------------------------\n",
      "Nombre:   Elian\n",
      "Edad:     28 años\n",
      "Estatura: 1 metros y 62 centímetros\n",
      "Amigos:   1000\n",
      "--------------------------------------------------\n",
      "Gracias por la información. Esperamos que disfrutes con Mi Red\n",
      "\n"
     ]
    }
   ],
   "source": [
    "############################################################\n",
    "# Bienvenida\n",
    "\n",
    "print(\"Bienvenido a ... \")\n",
    "print(\"\"\"\n",
    "              _                  __\n",
    "   ____ ___  (_)  ________  ____/ /\n",
    "  / __ `__ \\/ /  / ___/ _ \\/ __  /\n",
    " / / / / / / /  / /  /  __/ /_/ /\n",
    "/_/ /_/ /_/_/  /_/   \\___/\\__,_/\n",
    "\n",
    "\"\"\")\n",
    "\n",
    "# Solicitud de nombre\n",
    "nombre = input(\"Para empezar, dime como te llamas. \")\n",
    "print()\n",
    "print(\"Hola \", nombre, \", bienvenido a Mi Red\")\n",
    "print()\n",
    "\n",
    "# Cálculo de edad\n",
    "agno = int(input(\"Para preparar tu perfil, dime en qué año naciste. \"))\n",
    "edad = 2017-agno-1\n",
    "print()\n",
    "\n",
    "# Cálculo de estatura\n",
    "estatura = float(input(\"Cuéntame más de ti, para agregarlo a tu perfil. ¿Cuánto mides? Dímelo en metros. \"))\n",
    "estatura_m = int(estatura)\n",
    "estatura_cm = int( (estatura - estatura_m)*100 )\n",
    "\n",
    "# Cantidad de amigos\n",
    "num_amigos = int(input(\"Muy bien. Finalmente, cuéntame cuantos amigos tienes. \"))\n",
    "\n",
    "#Con los datos recolectados escribimos en pantalla un texto que resuma los datos que hemos obtenido\n",
    "print()\n",
    "print(\"Muy bien,\", nombre, \". Entonces podemos crear un perfil con estos datos.\")\n",
    "print(\"--------------------------------------------------\")\n",
    "print(\"Nombre:  \", nombre)\n",
    "print(\"Edad:    \", edad, \"años\")\n",
    "print(\"Estatura:\", estatura_m, \"metros y\", estatura_cm, \"centímetros\")\n",
    "print(\"Amigos:  \", num_amigos)\n",
    "print(\"--------------------------------------------------\")\n",
    "print(\"Gracias por la información. Esperamos que disfrutes con Mi Red\")\n",
    "print()\n",
    "\n",
    "# Observa que el pedazo de código para publiar un Mensaje en tu Red no está aquí. Esto es \n",
    "# porque lo haremos de manera iteratva más adelante."
   ]
  },
  {
   "cell_type": "code",
   "execution_count": 4,
   "metadata": {},
   "outputs": [],
   "source": [
    "#Usaremos una variable bool para indicar si el usuario desea continuar\n",
    "#utilizando el programa o no\n",
    "\n",
    "continuar = True"
   ]
  },
  {
   "cell_type": "code",
   "execution_count": 5,
   "metadata": {},
   "outputs": [
    {
     "name": "stdout",
     "output_type": "stream",
     "text": [
      "¿Deseas escribir un mensaje? (S/N) S\n",
      "Vamos a publicar un mensaje. ¿Qué piensas hoy? \"El clima está frío\"\n",
      "\n",
      "--------------------------------------------------\n",
      "Elian dice: \"El clima está frío\"\n",
      "--------------------------------------------------\n",
      "¿Deseas escribir un mensaje? (S/N) s\n",
      "Vamos a publicar un mensaje. ¿Qué piensas hoy? vamos Perú!!!\n",
      "\n",
      "--------------------------------------------------\n",
      "Elian dice: vamos Perú!!!\n",
      "--------------------------------------------------\n",
      "¿Deseas escribir un mensaje? (S/N) \n",
      "Vamos a publicar un mensaje. ¿Qué piensas hoy? \"No escribí nada\"\n",
      "\n",
      "--------------------------------------------------\n",
      "Elian dice: \"No escribí nada\"\n",
      "--------------------------------------------------\n",
      "¿Deseas escribir un mensaje? (S/N) N\n"
     ]
    }
   ],
   "source": [
    "#Este ciclo se mantiene en ejecución hasta que el usuario desee salir\n",
    "\n",
    "while continuar:\n",
    "\n",
    "    #Solicitamos opción al usuario\n",
    "    escribir_mensaje = str(input(\"¿Deseas escribir un mensaje? (S/N) \"))\n",
    "\n",
    "    #Vamos a aceptar que el usuario ingrese un mensaje cuando escriban \"S\", \"s\", o nada\n",
    "    if escribir_mensaje == \"S\" or escribir_mensaje == \"s\" or escribir_mensaje == \"\":\n",
    "        mensaje = input(\"Vamos a publicar un mensaje. ¿Qué piensas hoy? \")\n",
    "        print()\n",
    "        print(\"--------------------------------------------------\")\n",
    "        print(nombre, \"dice:\", mensaje)\n",
    "        print(\"--------------------------------------------------\")\n",
    "    #En caso que sea otra respuesta, vamos a decidir salir.\n",
    "    #Así, en la siguiente iteración el ciclo terminará\n",
    "    else:\n",
    "        continuar = False\n",
    "        \n",
    "#Mensaje de salida, una vez que el ciclo ha terminado.\n",
    "print(\"Gracias por usar Mi Red. ¡Hasta pronto!\")"
   ]
  },
  {
   "cell_type": "markdown",
   "metadata": {},
   "source": [
    "# Mi Red Social Completa - ejecuto"
   ]
  },
  {
   "cell_type": "code",
   "execution_count": null,
   "metadata": {},
   "outputs": [],
   "source": [
    "print(\"Bienvenido a ... \")\n",
    "print(\"\"\"\n",
    "              _                  __\n",
    "   ____ ___  (_)  ________  ____/ /\n",
    "  / __ `__ \\/ /  / ___/ _ \\/ __  /\n",
    " / / / / / / /  / /  /  __/ /_/ /\n",
    "/_/ /_/ /_/_/  /_/   \\___/\\__,_/\n",
    "\n",
    "\"\"\")\n",
    "\n",
    "# Solicitud de nombre\n",
    "nombre = input(\"Para empezar, dime como te llamas. \")\n",
    "print()\n",
    "print(\"Hola \", nombre, \", bienvenido a Mi Red\")\n",
    "print()\n",
    "\n",
    "# Cálculo de edad\n",
    "agno = int(input(\"Para preparar tu perfil, dime en qué año naciste. \"))\n",
    "edad = 2017-agno-1\n",
    "print()\n",
    "\n",
    "# Cálculo de estatura\n",
    "estatura = float(input(\"Cuéntame más de ti, para agregarlo a tu perfil. ¿Cuánto mides? Dímelo en metros. \"))\n",
    "estatura_m = int(estatura)\n",
    "estatura_cm = int( (estatura - estatura_m)*100 )\n",
    "\n",
    "# Cantidad de amigos\n",
    "num_amigos = int(input(\"Muy bien. Finalmente, cuéntame cuantos amigos tienes. \"))\n",
    "\n",
    "#Con los datos recolectados escribimos en pantalla un texto que resuma los datos que hemos obtenido\n",
    "print()\n",
    "print(\"Muy bien,\", nombre, \". Entonces podemos crear un perfil con estos datos.\")\n",
    "print(\"--------------------------------------------------\")\n",
    "print(\"Nombre:  \", nombre)\n",
    "print(\"Edad:    \", edad, \"años\")\n",
    "print(\"Estatura:\", estatura_m, \"metros y\", estatura_cm, \"centímetros\")\n",
    "print(\"Amigos:  \", num_amigos)\n",
    "print(\"--------------------------------------------------\")\n",
    "print(\"Gracias por la información. Esperamos que disfrutes con Mi Red\")\n",
    "print()\n",
    "\n",
    "#Variable para indicar si el usuario desea continuar utilizando el programa o no\n",
    "continuar = True\n",
    "\n",
    "#Este ciclo se mantiene en ejecución hasta que el usuario ingresa un caracter diferente a \"S\" o \"s\"\n",
    "while continuar:\n",
    "\n",
    "    #Solicitamos opción al usuario\n",
    "    escribir_mensaje = str(input(\"¿Deseas escribir un mensaje? (S/N) \"))\n",
    "\n",
    "    #Vamos a aceptar que el usuario ingrese un mensaje cuando escriban \"S\", \"s\", o nada\n",
    "    if escribir_mensaje == \"S\" or escribir_mensaje == \"s\" or escribir_mensaje == \"\":\n",
    "        mensaje = input(\"Vamos a publicar un mensaje. ¿Qué piensas hoy? \")\n",
    "        print()\n",
    "        print(\"--------------------------------------------------\")\n",
    "        print(nombre, \"dice:\", mensaje)\n",
    "        print(\"--------------------------------------------------\")\n",
    "    #En caso que sea otra respuesta, vamos a decidir salir.\n",
    "    #Así, en la siguiente iteración el ciclo terminará\n",
    "    else:\n",
    "        continuar = False\n",
    "\n",
    "#Mensaje de salida, una vez que el ciclo ha terminado.\n",
    "print(\"Gracias por usar Mi Red. ¡Hasta pronto!\")"
   ]
  },
  {
   "cell_type": "markdown",
   "metadata": {},
   "source": [
    "# Ejercicio 2\n",
    "#Te proponemos los siguientes desafíos:"
   ]
  },
  {
   "cell_type": "code",
   "execution_count": null,
   "metadata": {},
   "outputs": [],
   "source": [
    "#\n",
    "# 1. Este programa termina cada vez que el valor de 'escribir_mensaje' es distinto a \"S\" o a \"s\".\n",
    "#   Modifique el programa para que el programa termine UNICAMENTE cuando se ingresa \"N\" o \"n\".\n",
    "#   En caso que se ingrese algo distinto, debe volver a solicitar una opción al usuario."
   ]
  },
  {
   "cell_type": "code",
   "execution_count": null,
   "metadata": {},
   "outputs": [],
   "source": [
    "#\n",
    "# 2. Modifica este menú para que le permita el usuario realizar más de una acción.\n",
    "#   Por ejemplo, puedes agregar una acción que permita al usuario modificar su nombre."
   ]
  }
 ],
 "metadata": {
  "kernelspec": {
   "display_name": "Python 3",
   "language": "python",
   "name": "python3"
  },
  "language_info": {
   "codemirror_mode": {
    "name": "ipython",
    "version": 3
   },
   "file_extension": ".py",
   "mimetype": "text/x-python",
   "name": "python",
   "nbconvert_exporter": "python",
   "pygments_lexer": "ipython3",
   "version": "3.7.2"
  }
 },
 "nbformat": 4,
 "nbformat_minor": 2
}
