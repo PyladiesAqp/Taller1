{
 "cells": [
  {
   "cell_type": "markdown",
   "metadata": {},
   "source": [
    "# **Empezando con python**"
   ]
  },
  {
   "cell_type": "markdown",
   "metadata": {},
   "source": [
    "# **Hello World**"
   ]
  },
  {
   "cell_type": "code",
   "execution_count": 12,
   "metadata": {},
   "outputs": [
    {
     "name": "stdout",
     "output_type": "stream",
     "text": [
      "hello World\n"
     ]
    }
   ],
   "source": [
    "print(\"hello World\")"
   ]
  },
  {
   "cell_type": "markdown",
   "metadata": {},
   "source": [
    "Si no esta seguro del tipo de un valor, puede preguntarle al interprete.\n"
   ]
  },
  {
   "cell_type": "code",
   "execution_count": 4,
   "metadata": {},
   "outputs": [
    {
     "data": {
      "text/plain": [
       "str"
      ]
     },
     "execution_count": 4,
     "metadata": {},
     "output_type": "execute_result"
    }
   ],
   "source": [
    "type('Hola Mundo!')\n",
    "\n"
   ]
  },
  {
   "cell_type": "code",
   "execution_count": 5,
   "metadata": {},
   "outputs": [
    {
     "data": {
      "text/plain": [
       "int"
      ]
     },
     "execution_count": 5,
     "metadata": {},
     "output_type": "execute_result"
    }
   ],
   "source": [
    "type(17)\n"
   ]
  },
  {
   "cell_type": "markdown",
   "metadata": {},
   "source": [
    "# **Variables, Tipos de datos básicos y operadores**\n"
   ]
  },
  {
   "cell_type": "markdown",
   "metadata": {},
   "source": [
    "**1 :Variables**"
   ]
  },
  {
   "cell_type": "markdown",
   "metadata": {},
   "source": [
    "- Las variables son espacios reservados en la memoria que, como su nombre indica, pueden cambiar de contenido a lo largo de la ejecución de un programa.\n",
    "\n",
    "- Para que nuestro código sea más entendible y claro, el identificador de la variable debe ser mnemotécnico, es decir que debe reflejar el uso dentro del programa de la misma.\n",
    "\n",
    "- Fuertemente tipado. Existen operaciones que no están permitidas entre tipos que no sean compatibles.\n",
    "\n",
    "- Tipos dinámicos.Python es un lenguaje que no requiere que se defina el tipo de un objeto. El intérprete \"infiere\" el tipo de dato del que se trata."
   ]
  },
  {
   "cell_type": "markdown",
   "metadata": {},
   "source": [
    " ![armadillo](https://image.slidesharecdn.com/iniciacinapython3-freivysparedes-160505121903/95/iniciacin-a-python-3-15-638.jpg?cb=1462451047)"
   ]
  },
  {
   "cell_type": "markdown",
   "metadata": {},
   "source": [
    "**Tipos numéricos.**\n",
    "- Números enteros (int).\n",
    "Python identifica a los número enteros como un tipo de dato el cual puede ser expresado de la siguiente manera.\n",
    "- Numeros flotantes (float)\n",
    "\n",
    "- Numeros complejos(complex)"
   ]
  },
  {
   "cell_type": "code",
   "execution_count": 10,
   "metadata": {},
   "outputs": [
    {
     "name": "stdout",
     "output_type": "stream",
     "text": [
      "5\n"
     ]
    }
   ],
   "source": [
    "myInt=5\n",
    "print(myInt)"
   ]
  },
  {
   "cell_type": "markdown",
   "metadata": {},
   "source": [
    "**Tipos de caracter** \n",
    "- String (str)"
   ]
  },
  {
   "cell_type": "code",
   "execution_count": 17,
   "metadata": {},
   "outputs": [
    {
     "data": {
      "text/plain": [
       "'bienvenidas'"
      ]
     },
     "execution_count": 17,
     "metadata": {},
     "output_type": "execute_result"
    }
   ],
   "source": [
    "\"bienvenidas\""
   ]
  },
  {
   "cell_type": "markdown",
   "metadata": {},
   "source": [
    "**Tipos Booleanos**\n",
    "- boolean (bool)"
   ]
  },
  {
   "cell_type": "code",
   "execution_count": 18,
   "metadata": {},
   "outputs": [],
   "source": [
    "hoy_llueve=True "
   ]
  },
  {
   "cell_type": "markdown",
   "metadata": {},
   "source": [
    "**Operadores Aritmeticos Comparativos y logicos**"
   ]
  },
  {
   "cell_type": "markdown",
   "metadata": {},
   "source": [
    " ![oper](https://image.slidesharecdn.com/iniciacinapython3-freivysparedes-160505121903/95/iniciacin-a-python-3-16-638.jpg?cb=1462451047)"
   ]
  },
  {
   "cell_type": "markdown",
   "metadata": {},
   "source": [
    "el resultado de la apicacion de estos operadores de comparacion y logicos siempre nos dara un resultado booleano"
   ]
  },
  {
   "cell_type": "code",
   "execution_count": 8,
   "metadata": {},
   "outputs": [
    {
     "data": {
      "text/plain": [
       "True"
      ]
     },
     "execution_count": 8,
     "metadata": {},
     "output_type": "execute_result"
    }
   ],
   "source": [
    "6!=5"
   ]
  },
  {
   "cell_type": "code",
   "execution_count": 7,
   "metadata": {},
   "outputs": [
    {
     "data": {
      "text/plain": [
       "False"
      ]
     },
     "execution_count": 7,
     "metadata": {},
     "output_type": "execute_result"
    }
   ],
   "source": [
    "5<4"
   ]
  },
  {
   "cell_type": "markdown",
   "metadata": {},
   "source": [
    " ![oper](https://image.slidesharecdn.com/iniciacinapython3-freivysparedes-160505121903/95/iniciacin-a-python-3-17-638.jpg?cb=1462451047)"
   ]
  },
  {
   "cell_type": "markdown",
   "metadata": {},
   "source": [
    "Operaciones en strings"
   ]
  },
  {
   "cell_type": "code",
   "execution_count": null,
   "metadata": {},
   "outputs": [],
   "source": [
    "En general, no se pueden efectuar operaciones matem ́aticas en strings, a ́un si el\n",
    "string luce como numeros. Las siguientes son expresiones ilegales (asumiendo que\n",
    "mensaje tiene tipo string):\n",
    "    "
   ]
  },
  {
   "cell_type": "code",
   "execution_count": 11,
   "metadata": {},
   "outputs": [
    {
     "ename": "TypeError",
     "evalue": "unsupported operand type(s) for -: 'str' and 'int'",
     "output_type": "error",
     "traceback": [
      "\u001b[1;31m---------------------------------------------------------------------------\u001b[0m",
      "\u001b[1;31mTypeError\u001b[0m                                 Traceback (most recent call last)",
      "\u001b[1;32m<ipython-input-11-07ac678284eb>\u001b[0m in \u001b[0;36m<module>\u001b[1;34m()\u001b[0m\n\u001b[0;32m      1\u001b[0m \u001b[0mmensaje\u001b[0m\u001b[1;33m=\u001b[0m\u001b[1;34m\"gatitos\"\u001b[0m\u001b[1;33m\u001b[0m\u001b[0m\n\u001b[1;32m----> 2\u001b[1;33m \u001b[0mmensaje\u001b[0m\u001b[1;33m-\u001b[0m\u001b[1;36m1\u001b[0m\u001b[1;33m\u001b[0m\u001b[0m\n\u001b[0m",
      "\u001b[1;31mTypeError\u001b[0m: unsupported operand type(s) for -: 'str' and 'int'"
     ]
    }
   ],
   "source": [
    "mensaje=\"gatitos\"\n",
    "mensaje-1 \n"
   ]
  },
  {
   "cell_type": "code",
   "execution_count": 12,
   "metadata": {},
   "outputs": [
    {
     "ename": "TypeError",
     "evalue": "unsupported operand type(s) for /: 'str' and 'int'",
     "output_type": "error",
     "traceback": [
      "\u001b[1;31m---------------------------------------------------------------------------\u001b[0m",
      "\u001b[1;31mTypeError\u001b[0m                                 Traceback (most recent call last)",
      "\u001b[1;32m<ipython-input-12-915fa5b182a9>\u001b[0m in \u001b[0;36m<module>\u001b[1;34m()\u001b[0m\n\u001b[1;32m----> 1\u001b[1;33m \u001b[1;34m'Hola'\u001b[0m\u001b[1;33m/\u001b[0m\u001b[1;36m123\u001b[0m\u001b[1;33m\u001b[0m\u001b[0m\n\u001b[0m\u001b[0;32m      2\u001b[0m \u001b[0mmensaje\u001b[0m\u001b[1;33m*\u001b[0m\u001b[1;34m'Hola'\u001b[0m\u001b[1;33m\u001b[0m\u001b[0m\n",
      "\u001b[1;31mTypeError\u001b[0m: unsupported operand type(s) for /: 'str' and 'int'"
     ]
    }
   ],
   "source": [
    "'Hola'/123\n",
    "mensaje*'Hola' \n"
   ]
  },
  {
   "cell_type": "code",
   "execution_count": 13,
   "metadata": {},
   "outputs": [
    {
     "ename": "TypeError",
     "evalue": "can only concatenate str (not \"int\") to str",
     "output_type": "error",
     "traceback": [
      "\u001b[1;31m---------------------------------------------------------------------------\u001b[0m",
      "\u001b[1;31mTypeError\u001b[0m                                 Traceback (most recent call last)",
      "\u001b[1;32m<ipython-input-13-5b5c95d1fc5c>\u001b[0m in \u001b[0;36m<module>\u001b[1;34m()\u001b[0m\n\u001b[1;32m----> 1\u001b[1;33m \u001b[1;34m'15'\u001b[0m\u001b[1;33m+\u001b[0m\u001b[1;36m2\u001b[0m\u001b[1;33m\u001b[0m\u001b[0m\n\u001b[0m",
      "\u001b[1;31mTypeError\u001b[0m: can only concatenate str (not \"int\") to str"
     ]
    }
   ],
   "source": [
    "'15'+2\n"
   ]
  },
  {
   "cell_type": "markdown",
   "metadata": {},
   "source": [
    "- Sin embargo, el operador + s ́ı trabaja con strings, pero de manera particular. Para los strings, el operador + representa concatenaci ́on, lo cual signfica que une los dos operando junt ́andolos. Por ejemplo:"
   ]
  },
  {
   "cell_type": "code",
   "execution_count": 17,
   "metadata": {},
   "outputs": [
    {
     "name": "stdout",
     "output_type": "stream",
     "text": [
      "platano frito\n"
     ]
    }
   ],
   "source": [
    "fruta = 'platano '\n",
    "estado = 'frito'\n",
    "print (fruta + estado)\n"
   ]
  },
  {
   "cell_type": "markdown",
   "metadata": {},
   "source": [
    "La salida para este programa es platano frito. El espacio antes de la palabra\n",
    "frito es parte del string y es necesario para producir un espacio entre los strings\n",
    "concatenados.\n",
    "\n",
    "- El operador * tambien trabaja con strings; este ejecuta repeteciones. Por ejemplo:"
   ]
  },
  {
   "cell_type": "code",
   "execution_count": 18,
   "metadata": {
    "scrolled": true
   },
   "outputs": [
    {
     "data": {
      "text/plain": [
       "'jojojo'"
      ]
     },
     "execution_count": 18,
     "metadata": {},
     "output_type": "execute_result"
    }
   ],
   "source": [
    "'jo'*3"
   ]
  },
  {
   "cell_type": "markdown",
   "metadata": {},
   "source": [
    " Produce ’JoJoJo’. Uno de los operandos tiene que ser un string y el otro un entero.\n",
    " - Esta interpretacion de $+$ y $*$ tiene sentido, por analogıa con la adicion y la multiplicacion. Tal como 4 * 3 es equivalente a 4 + 4 + 4, es de esperar que ’Jo’*3 sea equivalente a ’Jo’ + ’Jo’ + ’Jo’. Sin embargo, esta analogıa no implica que sean operaciones iguales."
   ]
  },
  {
   "cell_type": "markdown",
   "metadata": {},
   "source": [
    " ![oper](https://image.slidesharecdn.com/iniciacinapython3-freivysparedes-160505121903/95/iniciacin-a-python-3-18-638.jpg?cb=1462451047)"
   ]
  },
  {
   "cell_type": "markdown",
   "metadata": {},
   "source": [
    "los operadores logicos se utilizan para comparar sentencias"
   ]
  },
  {
   "cell_type": "markdown",
   "metadata": {},
   "source": [
    "# Funciones"
   ]
  },
  {
   "cell_type": "markdown",
   "metadata": {},
   "source": [
    "    En el contexto de programacion, una funcion es una secuencia de instrucciones\n",
    "    asociadas que realizan alguna operaci ́on deseada y est ́an asocidas a un nombre\n",
    "    (identificador).\n",
    "\n",
    "    Estas operaciones son especificadas en la definici ́on de una funcion. \n",
    "    En Python, la sintaxis para la definci ́on de una funcion es:\n",
    "\n",
    "    def NOMBRE( LISTA DE PARAMETROS ):\n",
    "    INSTRUCCIONES"
   ]
  },
  {
   "cell_type": "code",
   "execution_count": 49,
   "metadata": {},
   "outputs": [],
   "source": [
    "def newLine(): #en este caso nuestra funcion no recibe paametros\n",
    "    print() # una instruccion print sin argumentos imprime un salto de lınea\n"
   ]
  },
  {
   "cell_type": "markdown",
   "metadata": {},
   "source": [
    "La definicion de una nueva funcion no hace que esta se ejecute. Para hacer esto\n",
    "se necesita una llamada a funcion. Las llamadas a funcion contiene el nombre\n",
    "de la funcion que se desea ejecutar seguida por una lista de valores, llamados\n",
    "argumentos, los cuales son asignados a los parametros de la definicion de funcion."
   ]
  },
  {
   "cell_type": "code",
   "execution_count": 51,
   "metadata": {},
   "outputs": [
    {
     "name": "stdout",
     "output_type": "stream",
     "text": [
      "Primera Linea.\n",
      "\n",
      "Segunda Linea.\n"
     ]
    }
   ],
   "source": [
    "print (\"Primera Linea.\")\n",
    "newLine()\n",
    "print (\"Segunda Linea.\")"
   ]
  },
  {
   "cell_type": "markdown",
   "metadata": {},
   "source": [
    "El espacio extra entre dos l ́ıneas es resultado de la llamada a la funci ́on newLine().\n",
    "¿Como se conseguirıan mas espacios entre las lıneas? Se podrıa llamar a la funcion\n",
    "varias veces:"
   ]
  },
  {
   "cell_type": "code",
   "execution_count": 53,
   "metadata": {},
   "outputs": [
    {
     "name": "stdout",
     "output_type": "stream",
     "text": [
      "Primera Linea.\n",
      "\n",
      "\n",
      "\n",
      "Segunda Linea.\n"
     ]
    }
   ],
   "source": [
    "\n",
    "print (\"Primera Linea.\")\n",
    "newLine()\n",
    "newLine()\n",
    "newLine()\n",
    "print (\"Segunda Linea.\")"
   ]
  },
  {
   "cell_type": "markdown",
   "metadata": {},
   "source": [
    "O podrıamos escribir una nueva funcion llamada threeLines que imprima tres\n",
    "nuevas lıneas:"
   ]
  },
  {
   "cell_type": "code",
   "execution_count": 56,
   "metadata": {},
   "outputs": [
    {
     "name": "stdout",
     "output_type": "stream",
     "text": [
      "Primera Linea.\n",
      "\n",
      "\n",
      "\n",
      "Segunda Linea.\n"
     ]
    }
   ],
   "source": [
    "def threeLines():\n",
    "    newLine()\n",
    "    newLine()\n",
    "    newLine()\n",
    "print (\"Primera Linea.\")\n",
    "threeLines()\n",
    "print (\"Segunda Linea.\")"
   ]
  },
  {
   "cell_type": "markdown",
   "metadata": {},
   "source": [
    "**Parametros, argumentos y la instruccion import**"
   ]
  },
  {
   "cell_type": "markdown",
   "metadata": {},
   "source": [
    "Muchas funciones requieren argumentos, valores que controlan como la funcion\n",
    "hace su trabajo. Por ejemplo, si se desea calcular el valor absoluto de un numero,\n",
    "se debe indicar de que numero se esta hablando. Python tiene una lista de funciones listas\n",
    "para usar, que calcula el valor absoluto, una funcion para calcular potencias,sacar el maximo valor entre otras mas:"
   ]
  },
  {
   "cell_type": "code",
   "execution_count": 61,
   "metadata": {},
   "outputs": [
    {
     "data": {
      "text/plain": [
       "5"
      ]
     },
     "execution_count": 61,
     "metadata": {},
     "output_type": "execute_result"
    }
   ],
   "source": [
    "abs(-5)"
   ]
  },
  {
   "cell_type": "code",
   "execution_count": 60,
   "metadata": {},
   "outputs": [
    {
     "data": {
      "text/plain": [
       "54"
      ]
     },
     "execution_count": 60,
     "metadata": {},
     "output_type": "execute_result"
    }
   ],
   "source": [
    "max(54,4)"
   ]
  },
  {
   "cell_type": "code",
   "execution_count": 59,
   "metadata": {},
   "outputs": [
    {
     "data": {
      "text/plain": [
       "8"
      ]
     },
     "execution_count": 59,
     "metadata": {},
     "output_type": "execute_result"
    }
   ],
   "source": [
    "pow(2,3)"
   ]
  },
  {
   "cell_type": "markdown",
   "metadata": {},
   "source": [
    "Ejercicio 1- Definir una función max() que tome como argumento dos números y devuelva el mayor de ellos. (Es cierto que python tiene una función max() incorporada, pero hacerla nosotros mismos es un muy buen ejercicio."
   ]
  },
  {
   "cell_type": "code",
   "execution_count": null,
   "metadata": {},
   "outputs": [],
   "source": []
  },
  {
   "cell_type": "markdown",
   "metadata": {},
   "source": [
    "    Aquı hay otro ejemplo de una funcion definida por el usuario que tiene un\n",
    "    parametro.\n",
    "    def printTwice(param):\n",
    "    print param, param"
   ]
  },
  {
   "cell_type": "code",
   "execution_count": 66,
   "metadata": {},
   "outputs": [],
   "source": [
    "def printTwice(param):\n",
    "        print (param, param)"
   ]
  },
  {
   "cell_type": "code",
   "execution_count": 69,
   "metadata": {},
   "outputs": [
    {
     "name": "stdout",
     "output_type": "stream",
     "text": [
      "miaumiau miaumiau\n"
     ]
    }
   ],
   "source": [
    "printTwice(\"miau\" * 2)\n"
   ]
  },
  {
   "cell_type": "code",
   "execution_count": 71,
   "metadata": {},
   "outputs": [
    {
     "name": "stdout",
     "output_type": "stream",
     "text": [
      "5 5\n"
     ]
    }
   ],
   "source": [
    "printTwice(abs(-5))"
   ]
  },
  {
   "cell_type": "markdown",
   "metadata": {},
   "source": [
    "**Las variables y los parametros son locales**"
   ]
  },
  {
   "cell_type": "markdown",
   "metadata": {},
   "source": [
    "Cuando se crea una variable local dentro de una funci ́on, esta s ́olo existe dentro\n",
    "de la funci ́on y no se le puede usar fuera. Por ejemplo:"
   ]
  },
  {
   "cell_type": "code",
   "execution_count": 73,
   "metadata": {},
   "outputs": [],
   "source": [
    "def catTwice(part1, part2):\n",
    "    cat = part1 + part2\n",
    "    printTwice(cat)\n"
   ]
  },
  {
   "cell_type": "markdown",
   "metadata": {},
   "source": [
    "Esta funcion funcion toma dos argumentos, los concatena y entonces imprime el\n",
    "resultado dos veces. Se puede llamar a la funcion con dos strings:"
   ]
  },
  {
   "cell_type": "code",
   "execution_count": 75,
   "metadata": {},
   "outputs": [
    {
     "name": "stdout",
     "output_type": "stream",
     "text": [
      "las rosas son rojas , los gatos dicen meow. las rosas son rojas , los gatos dicen meow.\n"
     ]
    }
   ],
   "source": [
    "chant1 = \"las rosas son rojas , \"\n",
    "chant2 = \"los gatos dicen meow.\"\n",
    "catTwice(chant1, chant2)\n"
   ]
  },
  {
   "cell_type": "markdown",
   "metadata": {},
   "source": [
    "Cuando catTwice termina, la variable cat es destruida. Si intentamos imprimirla,\n",
    "se obtiene un error:"
   ]
  },
  {
   "cell_type": "code",
   "execution_count": 76,
   "metadata": {},
   "outputs": [
    {
     "ename": "SyntaxError",
     "evalue": "Missing parentheses in call to 'print'. Did you mean print(cat)? (<ipython-input-76-dca32bd9741f>, line 1)",
     "output_type": "error",
     "traceback": [
      "\u001b[1;36m  File \u001b[1;32m\"<ipython-input-76-dca32bd9741f>\"\u001b[1;36m, line \u001b[1;32m1\u001b[0m\n\u001b[1;33m    print cat\u001b[0m\n\u001b[1;37m            ^\u001b[0m\n\u001b[1;31mSyntaxError\u001b[0m\u001b[1;31m:\u001b[0m Missing parentheses in call to 'print'. Did you mean print(cat)?\n"
     ]
    }
   ],
   "source": [
    "print cat"
   ]
  },
  {
   "cell_type": "markdown",
   "metadata": {},
   "source": [
    "Los parametros son tambien locales. Por ejemplo, fuera de la funcion printTwice\n",
    "la varible param no existe."
   ]
  },
  {
   "cell_type": "markdown",
   "metadata": {},
   "source": [
    "# **Sentencias Condicionales**"
   ]
  },
  {
   "cell_type": "markdown",
   "metadata": {},
   "source": [
    "**Expresion booleana**"
   ]
  },
  {
   "cell_type": "markdown",
   "metadata": {},
   "source": [
    "Una expresion booleana es una expresion que es verdadera o falsa. Una manera\n",
    "de escribir una expresion booleana es usar el operador ==, el cual compara dos  valores y produce un valor booleano.\n"
   ]
  },
  {
   "cell_type": "code",
   "execution_count": 78,
   "metadata": {},
   "outputs": [
    {
     "data": {
      "text/plain": [
       "True"
      ]
     },
     "execution_count": 78,
     "metadata": {},
     "output_type": "execute_result"
    }
   ],
   "source": [
    "5 == 5"
   ]
  },
  {
   "cell_type": "code",
   "execution_count": 79,
   "metadata": {},
   "outputs": [
    {
     "data": {
      "text/plain": [
       "False"
      ]
     },
     "execution_count": 79,
     "metadata": {},
     "output_type": "execute_result"
    }
   ],
   "source": [
    "5 == 6\n"
   ]
  },
  {
   "cell_type": "markdown",
   "metadata": {},
   "source": [
    "**Ejecucion condicional**\n",
    "Para poder escribir programas  ́utiles, cası siempre siempre se tendra que verificar\n",
    "condiciones y cambiar el comportamiento del programa de acuerdo a ellas. Las\n",
    "instrucciones condicionales nos permiten hacer esto. La forma mas simple de\n",
    "la instruccion condicional **if** (si) es la siguiente:"
   ]
  },
  {
   "cell_type": "code",
   "execution_count": 23,
   "metadata": {},
   "outputs": [
    {
     "name": "stdout",
     "output_type": "stream",
     "text": [
      "x is positivo\n"
     ]
    }
   ],
   "source": [
    "x=5\n",
    "if x > 0:\n",
    "    print (\"x is positivo\")"
   ]
  },
  {
   "cell_type": "markdown",
   "metadata": {},
   "source": [
    "**Ejecucion Alternativa**\n",
    "Una segunda forma de la instruccion if es la ejecucion alternativa, en la cual\n",
    "existen dos posibilidad y la condicion determina cual sera ejecutada. La sintaxis\n",
    "luce ası:"
   ]
  },
  {
   "cell_type": "code",
   "execution_count": 30,
   "metadata": {},
   "outputs": [
    {
     "name": "stdout",
     "output_type": "stream",
     "text": [
      "5 es 5\n"
     ]
    }
   ],
   "source": [
    "if x%2 == 0:\n",
    "    print (x, \"es par\")\n",
    "else:\n",
    "    print (x, \"es impar\")"
   ]
  },
  {
   "cell_type": "markdown",
   "metadata": {},
   "source": [
    "**Cadenas de condicionales**\n",
    "Algunas veces existen mas de dos posibilidades y se necesita mas de dos ramificaciones. Una manera de expresar esto es con una cadena de condicionales:"
   ]
  },
  {
   "cell_type": "code",
   "execution_count": 31,
   "metadata": {},
   "outputs": [
    {
     "name": "stdout",
     "output_type": "stream",
     "text": [
      "5 es menor que 6\n"
     ]
    }
   ],
   "source": [
    "y=6\n",
    "\n",
    "if x < y:\n",
    "    print (x, \"es menor que\", y)\n",
    "elif x > y:\n",
    "    print (x, \"es mayor que\", y)\n",
    "else:\n",
    "    print (x, \"y\", y, \"son iguales\")"
   ]
  },
  {
   "cell_type": "markdown",
   "metadata": {},
   "source": [
    "elif es la abreviciacion de “else if.” Nuevamente, solo una ramificacion es ejecutada. No hay lımite para el numero de instrucciones elif, pero la  ́ultima ramificacion\n",
    "debera ser la instruccion else:"
   ]
  },
  {
   "cell_type": "code",
   "execution_count": null,
   "metadata": {},
   "outputs": [],
   "source": [
    "opcion ='B'\n",
    "if opcion == 'A':\n",
    "funcionA()\n",
    "elif opcion == 'B':\n",
    "funcionB()\n",
    "elif opcion == 'C':\n",
    "funcionC()\n",
    "else:\n",
    "print \"Opcion invalida.\""
   ]
  },
  {
   "cell_type": "markdown",
   "metadata": {},
   "source": [
    "Cada condicion es verificada en orden. Si la primera es falsa, se verifica la siguiente\n",
    "y ası sucesivamente. Si una de ellas es verdadera, se ejecuta la ramifiacion correspondiente y la instruccion termina. Si mas de una instruccion fueran verdaderas,\n",
    "solo la primera se ejecuta."
   ]
  },
  {
   "cell_type": "markdown",
   "metadata": {},
   "source": [
    "# *Como ejercicio, cree las funciones comparar(x, y) y elegir(opcion) a partir de los codigo estudiados.*"
   ]
  },
  {
   "cell_type": "markdown",
   "metadata": {},
   "source": [
    " **Condicionales anidadas**\n"
   ]
  },
  {
   "cell_type": "markdown",
   "metadata": {},
   "source": [
    "Una instruccion condicional puede tener otra instruccion condicional como una\n",
    "instruccion mas en su cuerpo. Observe el siguiente ejemplo:\n"
   ]
  },
  {
   "cell_type": "code",
   "execution_count": 82,
   "metadata": {},
   "outputs": [
    {
     "name": "stdout",
     "output_type": "stream",
     "text": [
      "5 es menor que 6\n"
     ]
    }
   ],
   "source": [
    "if x == y:\n",
    "    print (x, \"y\", y, \"son iguales\")\n",
    "else:\n",
    "    if x < y:\n",
    "        print (x, \"es menor que\", y)\n",
    "    else:\n",
    "        print (x, \"es mayor que\", y)"
   ]
  },
  {
   "cell_type": "markdown",
   "metadata": {},
   "source": [
    "**La instruccion return**\n",
    "\n"
   ]
  },
  {
   "cell_type": "markdown",
   "metadata": {},
   "source": [
    "La instruccion return permite terminar la ejecucion de una funcion antes de que\n",
    "esta llegue al final. Una razon para hacer esto podrıa ser la deteccion de una\n",
    "condicion de error:"
   ]
  },
  {
   "cell_type": "code",
   "execution_count": 161,
   "metadata": {},
   "outputs": [],
   "source": [
    "def printSquareRoot(x):\n",
    "    if x <= 0:\n",
    "        print (\"Por favor, solo numeros positivos.\")\n",
    "        return\n",
    "    result = x**0.5\n",
    "    print (\"La raiz cuadrada de\", x, \"es\", result)"
   ]
  },
  {
   "cell_type": "code",
   "execution_count": 162,
   "metadata": {},
   "outputs": [
    {
     "name": "stdout",
     "output_type": "stream",
     "text": [
      "La raiz cuadrada de 9 es 3.0\n"
     ]
    }
   ],
   "source": [
    "printSquareRoot(9)"
   ]
  },
  {
   "cell_type": "markdown",
   "metadata": {},
   "source": [
    "La funcion printSquareRoot tiene un parametro llamado x. La primera cosa que\n",
    "hace esto es verificar si x es menor o igual a 0, en cuyo caso se muestra un mensaje\n",
    "de error y se retorna de inmediato usando return para salir de la funcion. El flujo\n",
    "de ejecucion retorna inmediatamente al llamador y las lıneas restantes no son\n",
    "ejecutadas.\n"
   ]
  },
  {
   "cell_type": "code",
   "execution_count": 92,
   "metadata": {
    "scrolled": true
   },
   "outputs": [
    {
     "name": "stdout",
     "output_type": "stream",
     "text": [
      "Por favor, solo numeros positivos.\n"
     ]
    }
   ],
   "source": [
    "printSquareRoot(-1)"
   ]
  },
  {
   "cell_type": "markdown",
   "metadata": {},
   "source": [
    "# **Entrada por teclado** (Input)*\n"
   ]
  },
  {
   "cell_type": "markdown",
   "metadata": {},
   "source": [
    "para ingresar o tamar valores usaremos la funcion input seguida de un mensaje entre comillas que nos indique cual es el dato solicitado (si asi lo deseamos esto no siempre es necesario):\n"
   ]
  },
  {
   "cell_type": "code",
   "execution_count": 105,
   "metadata": {},
   "outputs": [
    {
     "name": "stdout",
     "output_type": "stream",
     "text": [
      "Dime tu color favovrito rosa\n"
     ]
    },
    {
     "data": {
      "text/plain": [
       "'rosa'"
      ]
     },
     "execution_count": 105,
     "metadata": {},
     "output_type": "execute_result"
    }
   ],
   "source": [
    "input(\"Dime tu color favovrito \")"
   ]
  },
  {
   "cell_type": "code",
   "execution_count": 106,
   "metadata": {},
   "outputs": [
    {
     "name": "stdout",
     "output_type": "stream",
     "text": [
      "golondrinas\n"
     ]
    },
    {
     "data": {
      "text/plain": [
       "'golondrinas'"
      ]
     },
     "execution_count": 106,
     "metadata": {},
     "output_type": "execute_result"
    }
   ],
   "source": [
    "input()"
   ]
  },
  {
   "cell_type": "markdown",
   "metadata": {},
   "source": [
    "Ahora,si bien podemos ingresar cualquier tipo de dato python lo convertira siempre a string para lo cual nosotros deberemos definir o castear el tipo de dato solicitado  "
   ]
  },
  {
   "cell_type": "code",
   "execution_count": 108,
   "metadata": {},
   "outputs": [
    {
     "name": "stdout",
     "output_type": "stream",
     "text": [
      "Dime tu estatura en metros:1.57\n"
     ]
    },
    {
     "data": {
      "text/plain": [
       "'1.57'"
      ]
     },
     "execution_count": 108,
     "metadata": {},
     "output_type": "execute_result"
    }
   ],
   "source": [
    "input(\"Dime tu estatura en metros:\")"
   ]
  },
  {
   "cell_type": "code",
   "execution_count": 111,
   "metadata": {},
   "outputs": [
    {
     "name": "stdout",
     "output_type": "stream",
     "text": [
      "ingrese tu edad 90\n",
      "95\n"
     ]
    }
   ],
   "source": [
    "edad=int(input(\"ingrese tu edad \"))\n",
    "print (5+a)\n"
   ]
  },
  {
   "cell_type": "markdown",
   "metadata": {},
   "source": [
    "**Conversion de tipos** (*casteo*)\n"
   ]
  },
  {
   "cell_type": "markdown",
   "metadata": {},
   "source": [
    "\n",
    "En Python cada tipo trae un conjunto de funciones que permiten convertir valores\n",
    "de un tipo a otro. Por ejemplo, la funcion int(ARGUMENT), convierte cualquier tipo\n",
    "de valor a un entero, si no fuera posible, muestra un mensaje de error."
   ]
  },
  {
   "cell_type": "code",
   "execution_count": 112,
   "metadata": {},
   "outputs": [
    {
     "data": {
      "text/plain": [
       "98"
      ]
     },
     "execution_count": 112,
     "metadata": {},
     "output_type": "execute_result"
    }
   ],
   "source": [
    "int(\"98\")"
   ]
  },
  {
   "cell_type": "code",
   "execution_count": 114,
   "metadata": {},
   "outputs": [
    {
     "data": {
      "text/plain": [
       "8"
      ]
     },
     "execution_count": 114,
     "metadata": {},
     "output_type": "execute_result"
    }
   ],
   "source": [
    "int(8.8489)"
   ]
  },
  {
   "cell_type": "code",
   "execution_count": 117,
   "metadata": {},
   "outputs": [
    {
     "ename": "ValueError",
     "evalue": "invalid literal for int() with base 10: 'A'",
     "output_type": "error",
     "traceback": [
      "\u001b[1;31m---------------------------------------------------------------------------\u001b[0m",
      "\u001b[1;31mValueError\u001b[0m                                Traceback (most recent call last)",
      "\u001b[1;32m<ipython-input-117-58e5992d18f7>\u001b[0m in \u001b[0;36m<module>\u001b[1;34m()\u001b[0m\n\u001b[1;32m----> 1\u001b[1;33m \u001b[0mint\u001b[0m\u001b[1;33m(\u001b[0m\u001b[1;34m'A'\u001b[0m\u001b[1;33m)\u001b[0m\u001b[1;33m\u001b[0m\u001b[0m\n\u001b[0m",
      "\u001b[1;31mValueError\u001b[0m: invalid literal for int() with base 10: 'A'"
     ]
    }
   ],
   "source": [
    "int('A')"
   ]
  },
  {
   "cell_type": "markdown",
   "metadata": {},
   "source": [
    "la funcion str convierte a string "
   ]
  },
  {
   "cell_type": "code",
   "execution_count": 119,
   "metadata": {},
   "outputs": [
    {
     "data": {
      "text/plain": [
       "'2345678'"
      ]
     },
     "execution_count": 119,
     "metadata": {},
     "output_type": "execute_result"
    }
   ],
   "source": [
    "str(2345678)"
   ]
  },
  {
   "cell_type": "code",
   "execution_count": 120,
   "metadata": {},
   "outputs": [
    {
     "data": {
      "text/plain": [
       "'True'"
      ]
     },
     "execution_count": 120,
     "metadata": {},
     "output_type": "execute_result"
    }
   ],
   "source": [
    "str(True)"
   ]
  },
  {
   "cell_type": "markdown",
   "metadata": {},
   "source": [
    "la funcion bool ttrabaja de manera particular cuando es un valor numerico si es 0 sera convertido a false en caso contrario sera true igualmente si es un valor de conjunto de caracteres si es un espacio en blaco es tomado como false en caso cotrario sera true"
   ]
  },
  {
   "cell_type": "code",
   "execution_count": 121,
   "metadata": {},
   "outputs": [
    {
     "data": {
      "text/plain": [
       "False"
      ]
     },
     "execution_count": 121,
     "metadata": {},
     "output_type": "execute_result"
    }
   ],
   "source": [
    "bool(0)"
   ]
  },
  {
   "cell_type": "code",
   "execution_count": 122,
   "metadata": {},
   "outputs": [
    {
     "data": {
      "text/plain": [
       "True"
      ]
     },
     "execution_count": 122,
     "metadata": {},
     "output_type": "execute_result"
    }
   ],
   "source": [
    "bool(-89)"
   ]
  },
  {
   "cell_type": "code",
   "execution_count": 123,
   "metadata": {},
   "outputs": [
    {
     "data": {
      "text/plain": [
       "True"
      ]
     },
     "execution_count": 123,
     "metadata": {},
     "output_type": "execute_result"
    }
   ],
   "source": [
    "bool('a')"
   ]
  },
  {
   "cell_type": "markdown",
   "metadata": {},
   "source": [
    "# **BUCLES**"
   ]
  },
  {
   "cell_type": "markdown",
   "metadata": {},
   "source": [
    "**La instruccion while**\n"
   ]
  },
  {
   "cell_type": "markdown",
   "metadata": {},
   "source": [
    "La repetida ejecucion de un conjunto de instrucciones es llamada iteracion. Debido a que la iteracion es comun, Python provee varias caracterısticas del lenguaje\n",
    "que lo hacen mas sencillo. La primera caracterıstica que observaremos es la instruccion while.\n",
    "Aquı tiene una funcion llamada regresion que demuestra el uso de la instruccion\n",
    "while.\n"
   ]
  },
  {
   "cell_type": "code",
   "execution_count": 132,
   "metadata": {},
   "outputs": [],
   "source": [
    "def regresion(n):\n",
    "    while n > 0:\n",
    "        print (n)\n",
    "        n = n-1\n",
    "    print (\"FIN!!!!\")\n"
   ]
  },
  {
   "cell_type": "code",
   "execution_count": 134,
   "metadata": {},
   "outputs": [
    {
     "name": "stdout",
     "output_type": "stream",
     "text": [
      "5\n",
      "4\n",
      "3\n",
      "2\n",
      "1\n",
      "FIN!!!!\n"
     ]
    }
   ],
   "source": [
    "regresion(5)"
   ]
  },
  {
   "cell_type": "code",
   "execution_count": 142,
   "metadata": {},
   "outputs": [
    {
     "name": "stdout",
     "output_type": "stream",
     "text": [
      "5\n",
      "16\n",
      "8.0\n",
      "4.0\n",
      "2.0\n"
     ]
    }
   ],
   "source": [
    "def secuencia(n):\n",
    "    while n != 1:\n",
    "        print (n)\n",
    "        if n%2 == 0: # n es par\n",
    "            n = n/2\n",
    "        else: # n es impar\n",
    "            n = n*3+1\n",
    "secuencia(5)"
   ]
  },
  {
   "cell_type": "markdown",
   "metadata": {},
   "source": [
    "**El Ciclo for**"
   ]
  },
  {
   "cell_type": "code",
   "execution_count": 157,
   "metadata": {},
   "outputs": [
    {
     "name": "stdout",
     "output_type": "stream",
     "text": [
      "Comienzo\n",
      "Hola. Ahora i vale 3 y su cuadrado 9\n",
      "Hola. Ahora i vale 4 y su cuadrado 16\n",
      "Hola. Ahora i vale 5 y su cuadrado 25\n",
      "Final\n"
     ]
    }
   ],
   "source": [
    "print(\"Comienzo\")\n",
    "for i in [3, 4, 5]:\n",
    "    print(f\"Hola. Ahora i vale {i} y su cuadrado {i ** 2}\")\n",
    "print(\"Final\")"
   ]
  },
  {
   "cell_type": "code",
   "execution_count": 143,
   "metadata": {},
   "outputs": [
    {
     "name": "stdout",
     "output_type": "stream",
     "text": [
      "Ferrari\n",
      "Tesla\n",
      "BMW\n",
      "Audi\n"
     ]
    }
   ],
   "source": [
    "coches = (\"Ferrari\", \"Tesla\", \"BMW\", \"Audi\")\n",
    "for coche in coches:\n",
    "    print(coche)"
   ]
  },
  {
   "cell_type": "code",
   "execution_count": 158,
   "metadata": {},
   "outputs": [
    {
     "name": "stdout",
     "output_type": "stream",
     "text": [
      "El bucle no ha comenzado. Ahora i vale 10\n",
      "0 * 0 = 0\n",
      "1 * 1 = 1\n",
      "2 * 2 = 4\n",
      "3 * 3 = 9\n",
      "4 * 4 = 16\n",
      "El bucle ha terminado. Ahora i vale 4\n"
     ]
    }
   ],
   "source": [
    "i = 10\n",
    "print(f\"El bucle no ha comenzado. Ahora i vale {i}\")\n",
    "\n",
    "for i in [0, 1, 2, 3, 4]:\n",
    "    print(f\"{i} * {i} = {i ** 2}\")\n",
    "\n",
    "print(f\"El bucle ha terminado. Ahora i vale {i}\")"
   ]
  },
  {
   "cell_type": "markdown",
   "metadata": {},
   "source": [
    "# **REFERENCIAS**"
   ]
  },
  {
   "cell_type": "markdown",
   "metadata": {},
   "source": [
    "\n",
    "https://pythonista.io/cursos/py101/tipos-de-datos-basicos-y-operadores"
   ]
  },
  {
   "cell_type": "markdown",
   "metadata": {},
   "source": [
    "http://www.mclibre.org/consultar/python/lecciones/python-for.html"
   ]
  },
  {
   "cell_type": "markdown",
   "metadata": {},
   "source": [
    "\n",
    "http://www.learnpython.org/en/Variables_and_Types"
   ]
  },
  {
   "cell_type": "markdown",
   "metadata": {},
   "source": [
    "https://www.fing.edu.uy/inco/cursos/fpr/wiki/index.php/Variables_y_Tipos"
   ]
  }
 ],
 "metadata": {
  "kernelspec": {
   "display_name": "Python 3",
   "language": "python",
   "name": "python3"
  },
  "language_info": {
   "codemirror_mode": {
    "name": "ipython",
    "version": 3
   },
   "file_extension": ".py",
   "mimetype": "text/x-python",
   "name": "python",
   "nbconvert_exporter": "python",
   "pygments_lexer": "ipython3",
   "version": "3.7.0"
  }
 },
 "nbformat": 4,
 "nbformat_minor": 2
}
